{
 "cells": [
  {
   "cell_type": "code",
   "execution_count": 14,
   "id": "51559a51",
   "metadata": {},
   "outputs": [],
   "source": [
    "import sympy as sp\n"
   ]
  },
  {
   "cell_type": "code",
   "execution_count": 15,
   "id": "d231e14e",
   "metadata": {},
   "outputs": [],
   "source": [
    "x = sp.Symbol(\"x\")\n",
    "a = sp.Symbol(\"a\")"
   ]
  },
  {
   "cell_type": "code",
   "execution_count": 87,
   "id": "125a53b8",
   "metadata": {},
   "outputs": [],
   "source": [
    "def Legendre(i_arg, x, bound):\n",
    "    a_arg, b_arg = bound\n",
    "    a, b, x, i, m, k = sp.symbols((\"a\", \"b\", \"x\", \"i\", \"m\", \"k\"))\n",
    "    polinomial_Legendre = sp.sympify(sp.sqrt((2*i+1)/(b-a))*sp.Sum(sp.Sum(((-1)**(i-m-k))/(2**(i-k))*sp.binomial(i, m)*sp.binomial(2*i-2*m, i)*sp.binomial(i-2*m, i-2*m-k)*((b+a)**(i-2*m-k))/((b-a)**(i-2*m))*(x**k), (k, 0, i - 2*m)), (m, 0, i//2)))\n",
    "    polinomial_Legendre = polinomial_Legendre.subs([(i, i_arg), (a, a_arg), (b, b_arg)])\n",
    "    return sp.simplify(polinomial_Legendre.doit())"
   ]
  },
  {
   "cell_type": "code",
   "execution_count": 17,
   "id": "00acf6a1",
   "metadata": {},
   "outputs": [],
   "source": [
    "def trigonometric_functions(i_arg, x, a_arg):\n",
    "    a, x, i = sp.symbols((\"a\", \"x\", \"i\"))\n",
    "    if i_arg == 0:\n",
    "        S = sp.sympify(sp.sqrt(1/2/a))\n",
    "    elif i_arg % 2 == 0:\n",
    "        S = sp.sympify(sp.sqrt(1/a)*sp.cos(i*sp.pi/2/a*x))\n",
    "    else:\n",
    "        S = sp.sympify(sp.sqrt(1/a)*sp.sin((i+1)*sp.pi/2/a*x))\n",
    "    S = S.subs([(i, i_arg), (a, a_arg)])\n",
    "    return S"
   ]
  },
  {
   "cell_type": "code",
   "execution_count": 18,
   "id": "302c4f8f",
   "metadata": {},
   "outputs": [],
   "source": [
    "def Rademacher(k_arg, x):\n",
    "    k, x = sp.symbols((\"k\", \"x\"))\n",
    "    r = sp.sympify(sp.sign(sp.sin((2**k)*sp.pi*x)))\n",
    "    r = r.subs(k, k_arg)\n",
    "    return r.doit()\n",
    "\n",
    "def Walsh(i, x):\n",
    "    x = sp.symbols(\"x\")\n",
    "    binary = bin(i)[:1:-1]\n",
    "    Omega = sp.sympify(1)\n",
    "    for i in range(len(binary)):\n",
    "        if binary[i] == \"1\":\n",
    "            Omega = sp.sympify(Omega * Rademacher(i + 1, x))\n",
    "    return Omega"
   ]
  },
  {
   "cell_type": "code",
   "execution_count": 19,
   "id": "a3cfbfef",
   "metadata": {},
   "outputs": [],
   "source": [
    "def Hermit(i_arg, x):\n",
    "    k, x, i = sp.symbols((\"k\", \"x\", \"i\"))\n",
    "    Phi = sp.sympify(sp.E**(-x**2/2)*sp.sqrt(sp.factorial(i)/(2**i)/sp.sqrt(sp.pi))*sp.Sum((-1)**k*(2*x)**(i-2*k)/sp.factorial(k)/sp.factorial(i-2*k), (k, 0, i//2)))\n",
    "    Phi = Phi.subs(i, i_arg)\n",
    "    return sp.simplify(Phi.doit())"
   ]
  },
  {
   "cell_type": "code",
   "execution_count": 20,
   "id": "8158987a",
   "metadata": {},
   "outputs": [
    {
     "data": {
      "text/latex": [
       "$\\displaystyle \\frac{\\sqrt{3} x \\left(2 x^{2} - 3\\right) e^{- \\frac{x^{2}}{2}}}{3 \\sqrt[4]{\\pi}}$"
      ],
      "text/plain": [
       "sqrt(3)*x*(2*x**2 - 3)*exp(-x**2/2)/(3*pi**(1/4))"
      ]
     },
     "execution_count": 20,
     "metadata": {},
     "output_type": "execute_result"
    }
   ],
   "source": [
    "Hermit(3, x)"
   ]
  },
  {
   "cell_type": "code",
   "execution_count": 21,
   "id": "b1d32d29",
   "metadata": {},
   "outputs": [
    {
     "data": {
      "text/latex": [
       "$\\displaystyle \\sqrt{\\frac{1}{a}} \\sin{\\left(\\frac{2 \\pi x}{a} \\right)}$"
      ],
      "text/plain": [
       "sqrt(1/a)*sin(2*pi*x/a)"
      ]
     },
     "execution_count": 21,
     "metadata": {},
     "output_type": "execute_result"
    }
   ],
   "source": [
    "trigonometric_functions(3, x, a)"
   ]
  },
  {
   "cell_type": "code",
   "execution_count": 125,
   "id": "a251e53f",
   "metadata": {},
   "outputs": [
    {
     "data": {
      "text/latex": [
       "$\\displaystyle \\operatorname{sign}{\\left(\\sin{\\left(2 \\pi x \\right)} \\right)} \\operatorname{sign}{\\left(\\sin{\\left(4 \\pi x \\right)} \\right)}$"
      ],
      "text/plain": [
       "sign(sin(2*pi*x))*sign(sin(4*pi*x))"
      ]
     },
     "execution_count": 125,
     "metadata": {},
     "output_type": "execute_result"
    }
   ],
   "source": [
    "Walsh(3, x)\n",
    "#Rademacher(1, x)"
   ]
  },
  {
   "cell_type": "code",
   "execution_count": 101,
   "id": "1c4577f0",
   "metadata": {},
   "outputs": [
    {
     "data": {
      "text/latex": [
       "$\\displaystyle \\sqrt{3} \\left(2 x - 1\\right)$"
      ],
      "text/plain": [
       "sqrt(3)*(2*x - 1)"
      ]
     },
     "execution_count": 101,
     "metadata": {},
     "output_type": "execute_result"
    }
   ],
   "source": [
    "Legendre(1, x, (0, 1))"
   ]
  },
  {
   "cell_type": "code",
   "execution_count": 119,
   "id": "89784cab",
   "metadata": {},
   "outputs": [
    {
     "name": "stdout",
     "output_type": "stream",
     "text": [
      "x**10\n",
      "0\n",
      "1\n"
     ]
    }
   ],
   "source": [
    "f = sp.simplify(sp.sympify(input()))\n",
    "a = sp.sympify(input())\n",
    "b = sp.sympify(input())"
   ]
  },
  {
   "cell_type": "code",
   "execution_count": 69,
   "id": "15791e3a",
   "metadata": {},
   "outputs": [
    {
     "name": "stdout",
     "output_type": "stream",
     "text": [
      "[0.0642824346533225, (-151200*pi**4 - 7257600 - 90*pi**8 + pi**10 + 5040*pi**6 + 1814400*pi**2)/pi**11, 10*(-362880 - 3024*pi**4 - pi**8 + 72*pi**6 + 60480*pi**2)/pi**10, (-630*pi**4 - 2*pi**8 - 14175 + 45*pi**6 + 4725*pi**2)/(4*pi**9), 5*(-36*pi**6 - 1890*pi**2 + 2835 + 2*pi**8 + 378*pi**4)/(4*pi**10), (-7290*pi**8 - 151200*pi**4 - 89600 + 201600*pi**2 + 45360*pi**6 + 729*pi**10)/(2187*pi**11), 10*(-81*pi**8 - 3024*pi**4 - 4480 + 6720*pi**2 + 648*pi**6)/(729*pi**10), (-512*pi**8 - 10080*pi**4 - 14175 + 18900*pi**2 + 2880*pi**6)/(2048*pi**9), 5*(-2304*pi**6 - 7560*pi**2 + 2835 + 6048*pi**4 + 512*pi**8)/(4096*pi**10), (-1406250*pi**8 - 3780000*pi**4 - 290304 + 1814400*pi**2 + 3150000*pi**6 + 390625*pi**10)/(1953125*pi**11), 2*(-78125*pi**8 - 378000*pi**4 - 72576 + 302400*pi**2 + 225000*pi**6)/(390625*pi**10), (-162*pi**8 - 630*pi**4 - 175 + 525*pi**2 + 405*pi**6)/(972*pi**9), 5*(-324*pi**6 - 210*pi**2 + 35 + 378*pi**4 + 162*pi**8)/(2916*pi**10), (-74118870*pi**8 - 51861600*pi**4 - 1036800 + 12700800*pi**2 + 84707280*pi**6 + 40353607*pi**10)/(282475249*pi**11), 10*(-823543*pi**8 - 1037232*pi**4 - 51840 + 423360*pi**2 + 1210104*pi**6)/(40353607*pi**10), (-131072*pi**8 - 161280*pi**4 - 14175 + 75600*pi**2 + 184320*pi**6)/(1048576*pi**9), 5*(-147456*pi**6 - 30240*pi**2 + 2835 + 96768*pi**4 + 131072*pi**8)/(4194304*pi**10), (-47829690*pi**8 - 12247200*pi**4 - 89600 + 1814400*pi**2 + 33067440*pi**6 + 43046721*pi**10)/(387420489*pi**11), 10*(-531441*pi**8 - 244944*pi**4 - 4480 + 60480*pi**2 + 472392*pi**6)/(43046721*pi**10), (-31250*pi**8 - 15750*pi**4 - 567 + 4725*pi**2 + 28125*pi**6)/(312500*pi**9)]\n"
     ]
    }
   ],
   "source": [
    "h = []\n",
    "n = 20\n",
    "\n",
    "for i in range(n):\n",
    "    h.append(sp.simplify(sp.integrate(f * trigonometric_functions(i, x, b), (x, a, b))))\n",
    "print(h)\n",
    "\n",
    "#i = s.Symbol(\"i\")\n",
    "#sp.simplify(sp.integrate(f * trigonometric_functions(i, x, a), (x, a, b)))"
   ]
  },
  {
   "cell_type": "code",
   "execution_count": 70,
   "id": "fa9f77a2",
   "metadata": {},
   "outputs": [
    {
     "data": {
      "text/latex": [
       "$\\displaystyle \\frac{\\left(- 151200 \\pi^{4} - 7257600 - 90 \\pi^{8} + \\pi^{10} + 5040 \\pi^{6} + 1814400 \\pi^{2}\\right) \\sin{\\left(\\pi x \\right)}}{\\pi^{11}} + \\frac{\\left(- 630 \\pi^{4} - 2 \\pi^{8} - 14175 + 45 \\pi^{6} + 4725 \\pi^{2}\\right) \\sin{\\left(2 \\pi x \\right)}}{4 \\pi^{9}} + \\frac{\\left(- 7290 \\pi^{8} - 151200 \\pi^{4} - 89600 + 201600 \\pi^{2} + 45360 \\pi^{6} + 729 \\pi^{10}\\right) \\sin{\\left(3 \\pi x \\right)}}{2187 \\pi^{11}} + \\frac{\\left(- 512 \\pi^{8} - 10080 \\pi^{4} - 14175 + 18900 \\pi^{2} + 2880 \\pi^{6}\\right) \\sin{\\left(4 \\pi x \\right)}}{2048 \\pi^{9}} + \\frac{\\left(- 1406250 \\pi^{8} - 3780000 \\pi^{4} - 290304 + 1814400 \\pi^{2} + 3150000 \\pi^{6} + 390625 \\pi^{10}\\right) \\sin{\\left(5 \\pi x \\right)}}{1953125 \\pi^{11}} + \\frac{\\left(- 162 \\pi^{8} - 630 \\pi^{4} - 175 + 525 \\pi^{2} + 405 \\pi^{6}\\right) \\sin{\\left(6 \\pi x \\right)}}{972 \\pi^{9}} + \\frac{\\left(- 74118870 \\pi^{8} - 51861600 \\pi^{4} - 1036800 + 12700800 \\pi^{2} + 84707280 \\pi^{6} + 40353607 \\pi^{10}\\right) \\sin{\\left(7 \\pi x \\right)}}{282475249 \\pi^{11}} + \\frac{\\left(- 131072 \\pi^{8} - 161280 \\pi^{4} - 14175 + 75600 \\pi^{2} + 184320 \\pi^{6}\\right) \\sin{\\left(8 \\pi x \\right)}}{1048576 \\pi^{9}} + \\frac{\\left(- 47829690 \\pi^{8} - 12247200 \\pi^{4} - 89600 + 1814400 \\pi^{2} + 33067440 \\pi^{6} + 43046721 \\pi^{10}\\right) \\sin{\\left(9 \\pi x \\right)}}{387420489 \\pi^{11}} + \\frac{\\left(- 31250 \\pi^{8} - 15750 \\pi^{4} - 567 + 4725 \\pi^{2} + 28125 \\pi^{6}\\right) \\sin{\\left(10 \\pi x \\right)}}{312500 \\pi^{9}} + \\frac{10 \\left(-362880 - 3024 \\pi^{4} - \\pi^{8} + 72 \\pi^{6} + 60480 \\pi^{2}\\right) \\cos{\\left(\\pi x \\right)}}{\\pi^{10}} + \\frac{5 \\left(- 36 \\pi^{6} - 1890 \\pi^{2} + 2835 + 2 \\pi^{8} + 378 \\pi^{4}\\right) \\cos{\\left(2 \\pi x \\right)}}{4 \\pi^{10}} + \\frac{10 \\left(- 81 \\pi^{8} - 3024 \\pi^{4} - 4480 + 6720 \\pi^{2} + 648 \\pi^{6}\\right) \\cos{\\left(3 \\pi x \\right)}}{729 \\pi^{10}} + \\frac{5 \\left(- 2304 \\pi^{6} - 7560 \\pi^{2} + 2835 + 6048 \\pi^{4} + 512 \\pi^{8}\\right) \\cos{\\left(4 \\pi x \\right)}}{4096 \\pi^{10}} + \\frac{2 \\left(- 78125 \\pi^{8} - 378000 \\pi^{4} - 72576 + 302400 \\pi^{2} + 225000 \\pi^{6}\\right) \\cos{\\left(5 \\pi x \\right)}}{390625 \\pi^{10}} + \\frac{5 \\left(- 324 \\pi^{6} - 210 \\pi^{2} + 35 + 378 \\pi^{4} + 162 \\pi^{8}\\right) \\cos{\\left(6 \\pi x \\right)}}{2916 \\pi^{10}} + \\frac{10 \\left(- 823543 \\pi^{8} - 1037232 \\pi^{4} - 51840 + 423360 \\pi^{2} + 1210104 \\pi^{6}\\right) \\cos{\\left(7 \\pi x \\right)}}{40353607 \\pi^{10}} + \\frac{5 \\left(- 147456 \\pi^{6} - 30240 \\pi^{2} + 2835 + 96768 \\pi^{4} + 131072 \\pi^{8}\\right) \\cos{\\left(8 \\pi x \\right)}}{4194304 \\pi^{10}} + \\frac{10 \\left(- 531441 \\pi^{8} - 244944 \\pi^{4} - 4480 + 60480 \\pi^{2} + 472392 \\pi^{6}\\right) \\cos{\\left(9 \\pi x \\right)}}{43046721 \\pi^{10}} + 0.0454545454545455$"
      ],
      "text/plain": [
       "(-151200*pi**4 - 7257600 - 90*pi**8 + pi**10 + 5040*pi**6 + 1814400*pi**2)*sin(pi*x)/pi**11 + (-630*pi**4 - 2*pi**8 - 14175 + 45*pi**6 + 4725*pi**2)*sin(2*pi*x)/(4*pi**9) + (-7290*pi**8 - 151200*pi**4 - 89600 + 201600*pi**2 + 45360*pi**6 + 729*pi**10)*sin(3*pi*x)/(2187*pi**11) + (-512*pi**8 - 10080*pi**4 - 14175 + 18900*pi**2 + 2880*pi**6)*sin(4*pi*x)/(2048*pi**9) + (-1406250*pi**8 - 3780000*pi**4 - 290304 + 1814400*pi**2 + 3150000*pi**6 + 390625*pi**10)*sin(5*pi*x)/(1953125*pi**11) + (-162*pi**8 - 630*pi**4 - 175 + 525*pi**2 + 405*pi**6)*sin(6*pi*x)/(972*pi**9) + (-74118870*pi**8 - 51861600*pi**4 - 1036800 + 12700800*pi**2 + 84707280*pi**6 + 40353607*pi**10)*sin(7*pi*x)/(282475249*pi**11) + (-131072*pi**8 - 161280*pi**4 - 14175 + 75600*pi**2 + 184320*pi**6)*sin(8*pi*x)/(1048576*pi**9) + (-47829690*pi**8 - 12247200*pi**4 - 89600 + 1814400*pi**2 + 33067440*pi**6 + 43046721*pi**10)*sin(9*pi*x)/(387420489*pi**11) + (-31250*pi**8 - 15750*pi**4 - 567 + 4725*pi**2 + 28125*pi**6)*sin(10*pi*x)/(312500*pi**9) + 10*(-362880 - 3024*pi**4 - pi**8 + 72*pi**6 + 60480*pi**2)*cos(pi*x)/pi**10 + 5*(-36*pi**6 - 1890*pi**2 + 2835 + 2*pi**8 + 378*pi**4)*cos(2*pi*x)/(4*pi**10) + 10*(-81*pi**8 - 3024*pi**4 - 4480 + 6720*pi**2 + 648*pi**6)*cos(3*pi*x)/(729*pi**10) + 5*(-2304*pi**6 - 7560*pi**2 + 2835 + 6048*pi**4 + 512*pi**8)*cos(4*pi*x)/(4096*pi**10) + 2*(-78125*pi**8 - 378000*pi**4 - 72576 + 302400*pi**2 + 225000*pi**6)*cos(5*pi*x)/(390625*pi**10) + 5*(-324*pi**6 - 210*pi**2 + 35 + 378*pi**4 + 162*pi**8)*cos(6*pi*x)/(2916*pi**10) + 10*(-823543*pi**8 - 1037232*pi**4 - 51840 + 423360*pi**2 + 1210104*pi**6)*cos(7*pi*x)/(40353607*pi**10) + 5*(-147456*pi**6 - 30240*pi**2 + 2835 + 96768*pi**4 + 131072*pi**8)*cos(8*pi*x)/(4194304*pi**10) + 10*(-531441*pi**8 - 244944*pi**4 - 4480 + 60480*pi**2 + 472392*pi**6)*cos(9*pi*x)/(43046721*pi**10) + 0.0454545454545455"
      ]
     },
     "execution_count": 70,
     "metadata": {},
     "output_type": "execute_result"
    }
   ],
   "source": [
    "f1 = sp.sympify(0)\n",
    "\n",
    "for i in range(len(h)):\n",
    "    f1 += h[i] * trigonometric_functions(i, x, b)\n",
    "f1"
   ]
  },
  {
   "cell_type": "code",
   "execution_count": 71,
   "id": "2f3e10ac",
   "metadata": {},
   "outputs": [
    {
     "data": {
      "image/png": "[encoded data removed]",
      "text/plain": [
       "<Figure size 360x360 with 1 Axes>"
      ]
     },
     "metadata": {
      "needs_background": "light"
     },
     "output_type": "display_data"
    }
   ],
   "source": [
    "import matplotlib.pyplot as plt\n",
    "\n",
    "fig, ax = plt.subplots(figsize=(5, 5))\n",
    "plt.plot([i/100 for i in range(0, 101)], [f.subs(x, i/100) for i in range(0, 101)])\n",
    "plt.plot([i/100 for i in range(0, 101)], [f1.subs(x, i/100) for i in range(0, 101)])\n",
    "plt.show()"
   ]
  },
  {
   "cell_type": "code",
   "execution_count": 113,
   "id": "045a3d73",
   "metadata": {},
   "outputs": [
    {
     "ename": "KeyboardInterrupt",
     "evalue": "",
     "output_type": "error",
     "traceback": [
      "\u001b[0;31m---------------------------------------------------------------------------\u001b[0m",
      "\u001b[0;31mKeyboardInterrupt\u001b[0m                         Traceback (most recent call last)",
      "\u001b[0;32m/tmp/ipykernel_5032/2046301160.py\u001b[0m in \u001b[0;36m<module>\u001b[0;34m\u001b[0m\n\u001b[1;32m      3\u001b[0m \u001b[0;34m\u001b[0m\u001b[0m\n\u001b[1;32m      4\u001b[0m \u001b[0;32mfor\u001b[0m \u001b[0mi\u001b[0m \u001b[0;32min\u001b[0m \u001b[0mrange\u001b[0m\u001b[0;34m(\u001b[0m\u001b[0mn\u001b[0m\u001b[0;34m)\u001b[0m\u001b[0;34m:\u001b[0m\u001b[0;34m\u001b[0m\u001b[0;34m\u001b[0m\u001b[0m\n\u001b[0;32m----> 5\u001b[0;31m     \u001b[0mantiderivative\u001b[0m \u001b[0;34m=\u001b[0m \u001b[0msp\u001b[0m\u001b[0;34m.\u001b[0m\u001b[0msimplify\u001b[0m\u001b[0;34m(\u001b[0m\u001b[0msp\u001b[0m\u001b[0;34m.\u001b[0m\u001b[0mintegrate\u001b[0m\u001b[0;34m(\u001b[0m\u001b[0mf\u001b[0m \u001b[0;34m*\u001b[0m \u001b[0mHermit\u001b[0m\u001b[0;34m(\u001b[0m\u001b[0mi\u001b[0m\u001b[0;34m,\u001b[0m \u001b[0mx\u001b[0m\u001b[0;34m)\u001b[0m\u001b[0;34m,\u001b[0m \u001b[0mx\u001b[0m\u001b[0;34m)\u001b[0m\u001b[0;34m)\u001b[0m\u001b[0;34m\u001b[0m\u001b[0;34m\u001b[0m\u001b[0m\n\u001b[0m\u001b[1;32m      6\u001b[0m     \u001b[0mh\u001b[0m \u001b[0;34m=\u001b[0m \u001b[0msp\u001b[0m\u001b[0;34m.\u001b[0m\u001b[0mlimit\u001b[0m\u001b[0;34m(\u001b[0m\u001b[0mantiderivative\u001b[0m\u001b[0;34m,\u001b[0m \u001b[0mx\u001b[0m\u001b[0;34m,\u001b[0m \u001b[0;34m+\u001b[0m\u001b[0moo\u001b[0m\u001b[0;34m)\u001b[0m \u001b[0;34m-\u001b[0m \u001b[0msp\u001b[0m\u001b[0;34m.\u001b[0m\u001b[0mlimit\u001b[0m\u001b[0;34m(\u001b[0m\u001b[0mantiderivative\u001b[0m\u001b[0;34m,\u001b[0m \u001b[0mx\u001b[0m\u001b[0;34m,\u001b[0m \u001b[0;34m-\u001b[0m\u001b[0moo\u001b[0m\u001b[0;34m)\u001b[0m\u001b[0;34m\u001b[0m\u001b[0;34m\u001b[0m\u001b[0m\n\u001b[1;32m      7\u001b[0m \u001b[0mprint\u001b[0m\u001b[0;34m(\u001b[0m\u001b[0mh\u001b[0m\u001b[0;34m)\u001b[0m\u001b[0;34m\u001b[0m\u001b[0;34m\u001b[0m\u001b[0m\n",
      "\u001b[0;32m~/.local/lib/python3.8/site-packages/sympy/integrals/integrals.py\u001b[0m in \u001b[0;36mintegrate\u001b[0;34m(meijerg, conds, risch, heurisch, manual, *args, **kwargs)\u001b[0m\n\u001b[1;32m   1550\u001b[0m \u001b[0;34m\u001b[0m\u001b[0m\n\u001b[1;32m   1551\u001b[0m     \u001b[0;32mif\u001b[0m \u001b[0misinstance\u001b[0m\u001b[0;34m(\u001b[0m\u001b[0mintegral\u001b[0m\u001b[0;34m,\u001b[0m \u001b[0mIntegral\u001b[0m\u001b[0;34m)\u001b[0m\u001b[0;34m:\u001b[0m\u001b[0;34m\u001b[0m\u001b[0;34m\u001b[0m\u001b[0m\n\u001b[0;32m-> 1552\u001b[0;31m         \u001b[0;32mreturn\u001b[0m \u001b[0mintegral\u001b[0m\u001b[0;34m.\u001b[0m\u001b[0mdoit\u001b[0m\u001b[0;34m(\u001b[0m\u001b[0;34m**\u001b[0m\u001b[0mdoit_flags\u001b[0m\u001b[0;34m)\u001b[0m\u001b[0;34m\u001b[0m\u001b[0;34m\u001b[0m\u001b[0m\n\u001b[0m\u001b[1;32m   1553\u001b[0m     \u001b[0;32melse\u001b[0m\u001b[0;34m:\u001b[0m\u001b[0;34m\u001b[0m\u001b[0;34m\u001b[0m\u001b[0m\n\u001b[1;32m   1554\u001b[0m         new_args = [a.doit(**doit_flags) if isinstance(a, Integral) else a\n",
      "\u001b[0;32m~/.local/lib/python3.8/site-packages/sympy/integrals/integrals.py\u001b[0m in \u001b[0;36mdoit\u001b[0;34m(self, **hints)\u001b[0m\n\u001b[1;32m    595\u001b[0m                     \u001b[0mantideriv\u001b[0m \u001b[0;34m=\u001b[0m \u001b[0;32mNone\u001b[0m\u001b[0;34m\u001b[0m\u001b[0;34m\u001b[0m\u001b[0m\n\u001b[1;32m    596\u001b[0m                 \u001b[0;32melse\u001b[0m\u001b[0;34m:\u001b[0m\u001b[0;34m\u001b[0m\u001b[0;34m\u001b[0m\u001b[0m\n\u001b[0;32m--> 597\u001b[0;31m                     antideriv = self._eval_integral(\n\u001b[0m\u001b[1;32m    598\u001b[0m                         function, xab[0], **eval_kwargs)\n\u001b[1;32m    599\u001b[0m                     \u001b[0;32mif\u001b[0m \u001b[0mantideriv\u001b[0m \u001b[0;32mis\u001b[0m \u001b[0;32mNone\u001b[0m \u001b[0;32mand\u001b[0m \u001b[0mmeijerg\u001b[0m \u001b[0;32mis\u001b[0m \u001b[0;32mTrue\u001b[0m\u001b[0;34m:\u001b[0m\u001b[0;34m\u001b[0m\u001b[0;34m\u001b[0m\u001b[0m\n",
      "\u001b[0;32m~/.local/lib/python3.8/site-packages/sympy/integrals/integrals.py\u001b[0m in \u001b[0;36m_eval_integral\u001b[0;34m(self, f, x, meijerg, risch, manual, heurisch, conds, final)\u001b[0m\n\u001b[1;32m    956\u001b[0m                     \u001b[0;32mif\u001b[0m \u001b[0mresult\u001b[0m \u001b[0;34m==\u001b[0m \u001b[0;36m0\u001b[0m\u001b[0;34m:\u001b[0m\u001b[0;34m\u001b[0m\u001b[0;34m\u001b[0m\u001b[0m\n\u001b[1;32m    957\u001b[0m                         \u001b[0;32mfrom\u001b[0m \u001b[0msympy\u001b[0m\u001b[0;34m.\u001b[0m\u001b[0mintegrals\u001b[0m\u001b[0;34m.\u001b[0m\u001b[0mrisch\u001b[0m \u001b[0;32mimport\u001b[0m \u001b[0mNonElementaryIntegral\u001b[0m\u001b[0;34m\u001b[0m\u001b[0;34m\u001b[0m\u001b[0m\n\u001b[0;32m--> 958\u001b[0;31m                         \u001b[0;32mreturn\u001b[0m \u001b[0mNonElementaryIntegral\u001b[0m\u001b[0;34m(\u001b[0m\u001b[0mf\u001b[0m\u001b[0;34m,\u001b[0m \u001b[0mx\u001b[0m\u001b[0;34m)\u001b[0m\u001b[0;34m.\u001b[0m\u001b[0mdoit\u001b[0m\u001b[0;34m(\u001b[0m\u001b[0mrisch\u001b[0m\u001b[0;34m=\u001b[0m\u001b[0;32mFalse\u001b[0m\u001b[0;34m)\u001b[0m\u001b[0;34m\u001b[0m\u001b[0;34m\u001b[0m\u001b[0m\n\u001b[0m\u001b[1;32m    959\u001b[0m                     \u001b[0;32melse\u001b[0m\u001b[0;34m:\u001b[0m\u001b[0;34m\u001b[0m\u001b[0;34m\u001b[0m\u001b[0m\n\u001b[1;32m    960\u001b[0m                         \u001b[0;32mreturn\u001b[0m \u001b[0mresult\u001b[0m \u001b[0;34m+\u001b[0m \u001b[0mi\u001b[0m\u001b[0;34m.\u001b[0m\u001b[0mdoit\u001b[0m\u001b[0;34m(\u001b[0m\u001b[0mrisch\u001b[0m\u001b[0;34m=\u001b[0m\u001b[0;32mFalse\u001b[0m\u001b[0;34m)\u001b[0m\u001b[0;34m\u001b[0m\u001b[0;34m\u001b[0m\u001b[0m\n",
      "\u001b[0;32m~/.local/lib/python3.8/site-packages/sympy/integrals/integrals.py\u001b[0m in \u001b[0;36mdoit\u001b[0;34m(self, **hints)\u001b[0m\n\u001b[1;32m    595\u001b[0m                     \u001b[0mantideriv\u001b[0m \u001b[0;34m=\u001b[0m \u001b[0;32mNone\u001b[0m\u001b[0;34m\u001b[0m\u001b[0;34m\u001b[0m\u001b[0m\n\u001b[1;32m    596\u001b[0m                 \u001b[0;32melse\u001b[0m\u001b[0;34m:\u001b[0m\u001b[0;34m\u001b[0m\u001b[0;34m\u001b[0m\u001b[0m\n\u001b[0;32m--> 597\u001b[0;31m                     antideriv = self._eval_integral(\n\u001b[0m\u001b[1;32m    598\u001b[0m                         function, xab[0], **eval_kwargs)\n\u001b[1;32m    599\u001b[0m                     \u001b[0;32mif\u001b[0m \u001b[0mantideriv\u001b[0m \u001b[0;32mis\u001b[0m \u001b[0;32mNone\u001b[0m \u001b[0;32mand\u001b[0m \u001b[0mmeijerg\u001b[0m \u001b[0;32mis\u001b[0m \u001b[0;32mTrue\u001b[0m\u001b[0;34m:\u001b[0m\u001b[0;34m\u001b[0m\u001b[0;34m\u001b[0m\u001b[0m\n",
      "\u001b[0;32m~/.local/lib/python3.8/site-packages/sympy/integrals/integrals.py\u001b[0m in \u001b[0;36m_eval_integral\u001b[0;34m(self, f, x, meijerg, risch, manual, heurisch, conds, final)\u001b[0m\n\u001b[1;32m   1069\u001b[0m                     \u001b[0;32mtry\u001b[0m\u001b[0;34m:\u001b[0m\u001b[0;34m\u001b[0m\u001b[0;34m\u001b[0m\u001b[0m\n\u001b[1;32m   1070\u001b[0m                         \u001b[0;32mif\u001b[0m \u001b[0mconds\u001b[0m \u001b[0;34m==\u001b[0m \u001b[0;34m'piecewise'\u001b[0m\u001b[0;34m:\u001b[0m\u001b[0;34m\u001b[0m\u001b[0;34m\u001b[0m\u001b[0m\n\u001b[0;32m-> 1071\u001b[0;31m                             \u001b[0mh\u001b[0m \u001b[0;34m=\u001b[0m \u001b[0mheurisch_wrapper\u001b[0m\u001b[0;34m(\u001b[0m\u001b[0mg\u001b[0m\u001b[0;34m,\u001b[0m \u001b[0mx\u001b[0m\u001b[0;34m,\u001b[0m \u001b[0mhints\u001b[0m\u001b[0;34m=\u001b[0m\u001b[0;34m[\u001b[0m\u001b[0;34m]\u001b[0m\u001b[0;34m)\u001b[0m\u001b[0;34m\u001b[0m\u001b[0;34m\u001b[0m\u001b[0m\n\u001b[0m\u001b[1;32m   1072\u001b[0m                         \u001b[0;32melse\u001b[0m\u001b[0;34m:\u001b[0m\u001b[0;34m\u001b[0m\u001b[0;34m\u001b[0m\u001b[0m\n\u001b[1;32m   1073\u001b[0m                             \u001b[0mh\u001b[0m \u001b[0;34m=\u001b[0m \u001b[0mheurisch_\u001b[0m\u001b[0;34m(\u001b[0m\u001b[0mg\u001b[0m\u001b[0;34m,\u001b[0m \u001b[0mx\u001b[0m\u001b[0;34m,\u001b[0m \u001b[0mhints\u001b[0m\u001b[0;34m=\u001b[0m\u001b[0;34m[\u001b[0m\u001b[0;34m]\u001b[0m\u001b[0;34m)\u001b[0m\u001b[0;34m\u001b[0m\u001b[0;34m\u001b[0m\u001b[0m\n",
      "\u001b[0;32m~/.local/lib/python3.8/site-packages/sympy/integrals/heurisch.py\u001b[0m in \u001b[0;36mheurisch_wrapper\u001b[0;34m(f, x, rewrite, hints, mappings, retries, degree_offset, unnecessary_permutations, _try_heurisch)\u001b[0m\n\u001b[1;32m    141\u001b[0m         \u001b[0;32mreturn\u001b[0m \u001b[0mf\u001b[0m\u001b[0;34m*\u001b[0m\u001b[0mx\u001b[0m\u001b[0;34m\u001b[0m\u001b[0;34m\u001b[0m\u001b[0m\n\u001b[1;32m    142\u001b[0m \u001b[0;34m\u001b[0m\u001b[0m\n\u001b[0;32m--> 143\u001b[0;31m     res = heurisch(f, x, rewrite, hints, mappings, retries, degree_offset,\n\u001b[0m\u001b[1;32m    144\u001b[0m                    unnecessary_permutations, _try_heurisch)\n\u001b[1;32m    145\u001b[0m     \u001b[0;32mif\u001b[0m \u001b[0;32mnot\u001b[0m \u001b[0misinstance\u001b[0m\u001b[0;34m(\u001b[0m\u001b[0mres\u001b[0m\u001b[0;34m,\u001b[0m \u001b[0mBasic\u001b[0m\u001b[0;34m)\u001b[0m\u001b[0;34m:\u001b[0m\u001b[0;34m\u001b[0m\u001b[0;34m\u001b[0m\u001b[0m\n",
      "\u001b[0;32m~/.local/lib/python3.8/site-packages/sympy/integrals/heurisch.py\u001b[0m in \u001b[0;36mheurisch\u001b[0;34m(f, x, rewrite, hints, mappings, retries, degree_offset, unnecessary_permutations, _try_heurisch)\u001b[0m\n\u001b[1;32m    735\u001b[0m \u001b[0;34m\u001b[0m\u001b[0m\n\u001b[1;32m    736\u001b[0m     \u001b[0;32mif\u001b[0m \u001b[0;32mnot\u001b[0m \u001b[0;34m(\u001b[0m\u001b[0mF\u001b[0m\u001b[0;34m.\u001b[0m\u001b[0mfree_symbols\u001b[0m \u001b[0;34m-\u001b[0m \u001b[0mset\u001b[0m\u001b[0;34m(\u001b[0m\u001b[0mV\u001b[0m\u001b[0;34m)\u001b[0m\u001b[0;34m)\u001b[0m\u001b[0;34m:\u001b[0m\u001b[0;34m\u001b[0m\u001b[0;34m\u001b[0m\u001b[0m\n\u001b[0;32m--> 737\u001b[0;31m         \u001b[0msolution\u001b[0m \u001b[0;34m=\u001b[0m \u001b[0m_integrate\u001b[0m\u001b[0;34m(\u001b[0m\u001b[0;34m'Q'\u001b[0m\u001b[0;34m)\u001b[0m\u001b[0;34m\u001b[0m\u001b[0;34m\u001b[0m\u001b[0m\n\u001b[0m\u001b[1;32m    738\u001b[0m \u001b[0;34m\u001b[0m\u001b[0m\n\u001b[1;32m    739\u001b[0m         \u001b[0;32mif\u001b[0m \u001b[0msolution\u001b[0m \u001b[0;32mis\u001b[0m \u001b[0;32mNone\u001b[0m\u001b[0;34m:\u001b[0m\u001b[0;34m\u001b[0m\u001b[0;34m\u001b[0m\u001b[0m\n",
      "\u001b[0;32m~/.local/lib/python3.8/site-packages/sympy/integrals/heurisch.py\u001b[0m in \u001b[0;36m_integrate\u001b[0;34m(field)\u001b[0m\n\u001b[1;32m    726\u001b[0m         \u001b[0;32mexcept\u001b[0m \u001b[0mValueError\u001b[0m\u001b[0;34m:\u001b[0m\u001b[0;34m\u001b[0m\u001b[0;34m\u001b[0m\u001b[0m\n\u001b[1;32m    727\u001b[0m             \u001b[0;32mraise\u001b[0m \u001b[0mPolynomialError\u001b[0m\u001b[0;34m\u001b[0m\u001b[0;34m\u001b[0m\u001b[0m\n\u001b[0;32m--> 728\u001b[0;31m         \u001b[0msolution\u001b[0m \u001b[0;34m=\u001b[0m \u001b[0msolve_lin_sys\u001b[0m\u001b[0;34m(\u001b[0m\u001b[0mnumer\u001b[0m\u001b[0;34m.\u001b[0m\u001b[0mcoeffs\u001b[0m\u001b[0;34m(\u001b[0m\u001b[0;34m)\u001b[0m\u001b[0;34m,\u001b[0m \u001b[0mcoeff_ring\u001b[0m\u001b[0;34m,\u001b[0m \u001b[0m_raw\u001b[0m\u001b[0;34m=\u001b[0m\u001b[0;32mFalse\u001b[0m\u001b[0;34m)\u001b[0m\u001b[0;34m\u001b[0m\u001b[0;34m\u001b[0m\u001b[0m\n\u001b[0m\u001b[1;32m    729\u001b[0m \u001b[0;34m\u001b[0m\u001b[0m\n\u001b[1;32m    730\u001b[0m         \u001b[0;32mif\u001b[0m \u001b[0msolution\u001b[0m \u001b[0;32mis\u001b[0m \u001b[0;32mNone\u001b[0m\u001b[0;34m:\u001b[0m\u001b[0;34m\u001b[0m\u001b[0;34m\u001b[0m\u001b[0m\n",
      "\u001b[0;32m~/.local/lib/python3.8/site-packages/sympy/polys/solvers.py\u001b[0m in \u001b[0;36msolve_lin_sys\u001b[0;34m(eqs, ring, _raw)\u001b[0m\n\u001b[1;32m    272\u001b[0m         \u001b[0meqs_coeffs\u001b[0m\u001b[0;34m.\u001b[0m\u001b[0mappend\u001b[0m\u001b[0;34m(\u001b[0m\u001b[0meq_coeffs\u001b[0m\u001b[0;34m)\u001b[0m\u001b[0;34m\u001b[0m\u001b[0;34m\u001b[0m\u001b[0m\n\u001b[1;32m    273\u001b[0m \u001b[0;34m\u001b[0m\u001b[0m\n\u001b[0;32m--> 274\u001b[0;31m     \u001b[0mresult\u001b[0m \u001b[0;34m=\u001b[0m \u001b[0m_solve_lin_sys\u001b[0m\u001b[0;34m(\u001b[0m\u001b[0meqs_coeffs\u001b[0m\u001b[0;34m,\u001b[0m \u001b[0meqs_rhs\u001b[0m\u001b[0;34m,\u001b[0m \u001b[0mring\u001b[0m\u001b[0;34m)\u001b[0m\u001b[0;34m\u001b[0m\u001b[0;34m\u001b[0m\u001b[0m\n\u001b[0m\u001b[1;32m    275\u001b[0m \u001b[0;34m\u001b[0m\u001b[0m\n\u001b[1;32m    276\u001b[0m     \u001b[0;32mif\u001b[0m \u001b[0mresult\u001b[0m \u001b[0;32mis\u001b[0m \u001b[0;32mnot\u001b[0m \u001b[0;32mNone\u001b[0m \u001b[0;32mand\u001b[0m \u001b[0mas_expr\u001b[0m\u001b[0;34m:\u001b[0m\u001b[0;34m\u001b[0m\u001b[0;34m\u001b[0m\u001b[0m\n",
      "\u001b[0;32m~/.local/lib/python3.8/site-packages/sympy/polys/solvers.py\u001b[0m in \u001b[0;36m_solve_lin_sys\u001b[0;34m(eqs_coeffs, eqs_rhs, ring)\u001b[0m\n\u001b[1;32m    350\u001b[0m     \u001b[0msol\u001b[0m \u001b[0;34m=\u001b[0m \u001b[0;34m{\u001b[0m\u001b[0;34m}\u001b[0m\u001b[0;34m\u001b[0m\u001b[0;34m\u001b[0m\u001b[0m\n\u001b[1;32m    351\u001b[0m     \u001b[0;32mfor\u001b[0m \u001b[0msubsystem\u001b[0m \u001b[0;32min\u001b[0m \u001b[0msubsystems\u001b[0m\u001b[0;34m:\u001b[0m\u001b[0;34m\u001b[0m\u001b[0;34m\u001b[0m\u001b[0m\n\u001b[0;32m--> 352\u001b[0;31m         \u001b[0msubsol\u001b[0m \u001b[0;34m=\u001b[0m \u001b[0m_solve_lin_sys_component\u001b[0m\u001b[0;34m(\u001b[0m\u001b[0msubsystem\u001b[0m\u001b[0;34m[\u001b[0m\u001b[0;36m0\u001b[0m\u001b[0;34m]\u001b[0m\u001b[0;34m,\u001b[0m \u001b[0msubsystem\u001b[0m\u001b[0;34m[\u001b[0m\u001b[0;36m1\u001b[0m\u001b[0;34m]\u001b[0m\u001b[0;34m,\u001b[0m \u001b[0mring\u001b[0m\u001b[0;34m)\u001b[0m\u001b[0;34m\u001b[0m\u001b[0;34m\u001b[0m\u001b[0m\n\u001b[0m\u001b[1;32m    353\u001b[0m         \u001b[0;32mif\u001b[0m \u001b[0msubsol\u001b[0m \u001b[0;32mis\u001b[0m \u001b[0;32mNone\u001b[0m\u001b[0;34m:\u001b[0m\u001b[0;34m\u001b[0m\u001b[0;34m\u001b[0m\u001b[0m\n\u001b[1;32m    354\u001b[0m             \u001b[0;32mreturn\u001b[0m \u001b[0;32mNone\u001b[0m\u001b[0;34m\u001b[0m\u001b[0;34m\u001b[0m\u001b[0m\n",
      "\u001b[0;32m~/.local/lib/python3.8/site-packages/sympy/polys/solvers.py\u001b[0m in \u001b[0;36m_solve_lin_sys_component\u001b[0;34m(eqs_coeffs, eqs_rhs, ring)\u001b[0m\n\u001b[1;32m    398\u001b[0m \u001b[0;34m\u001b[0m\u001b[0m\n\u001b[1;32m    399\u001b[0m     \u001b[0;31m# solve by row-reduction\u001b[0m\u001b[0;34m\u001b[0m\u001b[0;34m\u001b[0m\u001b[0;34m\u001b[0m\u001b[0m\n\u001b[0;32m--> 400\u001b[0;31m     \u001b[0mechelon\u001b[0m\u001b[0;34m,\u001b[0m \u001b[0mpivots\u001b[0m \u001b[0;34m=\u001b[0m \u001b[0mmatrix\u001b[0m\u001b[0;34m.\u001b[0m\u001b[0mrref\u001b[0m\u001b[0;34m(\u001b[0m\u001b[0;34m)\u001b[0m\u001b[0;34m\u001b[0m\u001b[0;34m\u001b[0m\u001b[0m\n\u001b[0m\u001b[1;32m    401\u001b[0m \u001b[0;34m\u001b[0m\u001b[0m\n\u001b[1;32m    402\u001b[0m     \u001b[0;31m# construct the returnable form of the solutions\u001b[0m\u001b[0;34m\u001b[0m\u001b[0;34m\u001b[0m\u001b[0;34m\u001b[0m\u001b[0m\n",
      "\u001b[0;32m~/.local/lib/python3.8/site-packages/sympy/polys/matrices/domainmatrix.py\u001b[0m in \u001b[0;36mrref\u001b[0;34m(self)\u001b[0m\n\u001b[1;32m   1168\u001b[0m         \u001b[0;32mif\u001b[0m \u001b[0;32mnot\u001b[0m \u001b[0mself\u001b[0m\u001b[0;34m.\u001b[0m\u001b[0mdomain\u001b[0m\u001b[0;34m.\u001b[0m\u001b[0mis_Field\u001b[0m\u001b[0;34m:\u001b[0m\u001b[0;34m\u001b[0m\u001b[0;34m\u001b[0m\u001b[0m\n\u001b[1;32m   1169\u001b[0m             \u001b[0;32mraise\u001b[0m \u001b[0mValueError\u001b[0m\u001b[0;34m(\u001b[0m\u001b[0;34m'Not a field'\u001b[0m\u001b[0;34m)\u001b[0m\u001b[0;34m\u001b[0m\u001b[0;34m\u001b[0m\u001b[0m\n\u001b[0;32m-> 1170\u001b[0;31m         \u001b[0mrref_ddm\u001b[0m\u001b[0;34m,\u001b[0m \u001b[0mpivots\u001b[0m \u001b[0;34m=\u001b[0m \u001b[0mself\u001b[0m\u001b[0;34m.\u001b[0m\u001b[0mrep\u001b[0m\u001b[0;34m.\u001b[0m\u001b[0mrref\u001b[0m\u001b[0;34m(\u001b[0m\u001b[0;34m)\u001b[0m\u001b[0;34m\u001b[0m\u001b[0;34m\u001b[0m\u001b[0m\n\u001b[0m\u001b[1;32m   1171\u001b[0m         \u001b[0;32mreturn\u001b[0m \u001b[0mself\u001b[0m\u001b[0;34m.\u001b[0m\u001b[0mfrom_rep\u001b[0m\u001b[0;34m(\u001b[0m\u001b[0mrref_ddm\u001b[0m\u001b[0;34m)\u001b[0m\u001b[0;34m,\u001b[0m \u001b[0mtuple\u001b[0m\u001b[0;34m(\u001b[0m\u001b[0mpivots\u001b[0m\u001b[0;34m)\u001b[0m\u001b[0;34m\u001b[0m\u001b[0;34m\u001b[0m\u001b[0m\n\u001b[1;32m   1172\u001b[0m \u001b[0;34m\u001b[0m\u001b[0m\n",
      "\u001b[0;32m~/.local/lib/python3.8/site-packages/sympy/polys/matrices/ddm.py\u001b[0m in \u001b[0;36mrref\u001b[0;34m(a)\u001b[0m\n\u001b[1;32m    371\u001b[0m         \u001b[0mK\u001b[0m \u001b[0;34m=\u001b[0m \u001b[0ma\u001b[0m\u001b[0;34m.\u001b[0m\u001b[0mdomain\u001b[0m\u001b[0;34m\u001b[0m\u001b[0;34m\u001b[0m\u001b[0m\n\u001b[1;32m    372\u001b[0m         \u001b[0mpartial_pivot\u001b[0m \u001b[0;34m=\u001b[0m \u001b[0mK\u001b[0m\u001b[0;34m.\u001b[0m\u001b[0mis_RealField\u001b[0m \u001b[0;32mor\u001b[0m \u001b[0mK\u001b[0m\u001b[0;34m.\u001b[0m\u001b[0mis_ComplexField\u001b[0m\u001b[0;34m\u001b[0m\u001b[0;34m\u001b[0m\u001b[0m\n\u001b[0;32m--> 373\u001b[0;31m         \u001b[0mpivots\u001b[0m \u001b[0;34m=\u001b[0m \u001b[0mddm_irref\u001b[0m\u001b[0;34m(\u001b[0m\u001b[0mb\u001b[0m\u001b[0;34m,\u001b[0m \u001b[0m_partial_pivot\u001b[0m\u001b[0;34m=\u001b[0m\u001b[0mpartial_pivot\u001b[0m\u001b[0;34m)\u001b[0m\u001b[0;34m\u001b[0m\u001b[0;34m\u001b[0m\u001b[0m\n\u001b[0m\u001b[1;32m    374\u001b[0m         \u001b[0;32mreturn\u001b[0m \u001b[0mb\u001b[0m\u001b[0;34m,\u001b[0m \u001b[0mpivots\u001b[0m\u001b[0;34m\u001b[0m\u001b[0;34m\u001b[0m\u001b[0m\n\u001b[1;32m    375\u001b[0m \u001b[0;34m\u001b[0m\u001b[0m\n",
      "\u001b[0;32m~/.local/lib/python3.8/site-packages/sympy/polys/matrices/dense.py\u001b[0m in \u001b[0;36mddm_irref\u001b[0;34m(a, _partial_pivot)\u001b[0m\n\u001b[1;32m    141\u001b[0m             \u001b[0mak\u001b[0m\u001b[0;34m[\u001b[0m\u001b[0mj\u001b[0m\u001b[0;34m]\u001b[0m \u001b[0;34m-=\u001b[0m \u001b[0makj\u001b[0m \u001b[0;31m# ak[j] = zero\u001b[0m\u001b[0;34m\u001b[0m\u001b[0;34m\u001b[0m\u001b[0m\n\u001b[1;32m    142\u001b[0m             \u001b[0;32mfor\u001b[0m \u001b[0ml\u001b[0m \u001b[0;32min\u001b[0m \u001b[0mrange\u001b[0m\u001b[0;34m(\u001b[0m\u001b[0mj\u001b[0m\u001b[0;34m+\u001b[0m\u001b[0;36m1\u001b[0m\u001b[0;34m,\u001b[0m \u001b[0mn\u001b[0m\u001b[0;34m)\u001b[0m\u001b[0;34m:\u001b[0m\u001b[0;34m\u001b[0m\u001b[0;34m\u001b[0m\u001b[0m\n\u001b[0;32m--> 143\u001b[0;31m                 \u001b[0mak\u001b[0m\u001b[0;34m[\u001b[0m\u001b[0ml\u001b[0m\u001b[0;34m]\u001b[0m \u001b[0;34m-=\u001b[0m \u001b[0makj\u001b[0m \u001b[0;34m*\u001b[0m \u001b[0mai\u001b[0m\u001b[0;34m[\u001b[0m\u001b[0ml\u001b[0m\u001b[0;34m]\u001b[0m\u001b[0;34m\u001b[0m\u001b[0;34m\u001b[0m\u001b[0m\n\u001b[0m\u001b[1;32m    144\u001b[0m \u001b[0;34m\u001b[0m\u001b[0m\n\u001b[1;32m    145\u001b[0m         \u001b[0;31m# next row\u001b[0m\u001b[0;34m\u001b[0m\u001b[0;34m\u001b[0m\u001b[0;34m\u001b[0m\u001b[0m\n",
      "\u001b[0;32m~/.local/lib/python3.8/site-packages/sympy/polys/domains/expressiondomain.py\u001b[0m in \u001b[0;36m__mul__\u001b[0;34m(f, g)\u001b[0m\n\u001b[1;32m    103\u001b[0m                 \u001b[0;32mreturn\u001b[0m \u001b[0mf\u001b[0m\u001b[0;34m.\u001b[0m\u001b[0m__class__\u001b[0m\u001b[0;34m(\u001b[0m\u001b[0mf\u001b[0m\u001b[0;34m.\u001b[0m\u001b[0mex\u001b[0m\u001b[0;34m*\u001b[0m\u001b[0mg\u001b[0m\u001b[0;34m.\u001b[0m\u001b[0mex\u001b[0m\u001b[0;34m)\u001b[0m\u001b[0;34m\u001b[0m\u001b[0;34m\u001b[0m\u001b[0m\n\u001b[1;32m    104\u001b[0m \u001b[0;34m\u001b[0m\u001b[0m\n\u001b[0;32m--> 105\u001b[0;31m             \u001b[0;32mreturn\u001b[0m \u001b[0mf\u001b[0m\u001b[0;34m.\u001b[0m\u001b[0msimplify\u001b[0m\u001b[0;34m(\u001b[0m\u001b[0mf\u001b[0m\u001b[0;34m.\u001b[0m\u001b[0mex\u001b[0m\u001b[0;34m*\u001b[0m\u001b[0mg\u001b[0m\u001b[0;34m.\u001b[0m\u001b[0mex\u001b[0m\u001b[0;34m)\u001b[0m\u001b[0;34m\u001b[0m\u001b[0;34m\u001b[0m\u001b[0m\n\u001b[0m\u001b[1;32m    106\u001b[0m \u001b[0;34m\u001b[0m\u001b[0m\n\u001b[1;32m    107\u001b[0m         \u001b[0;32mdef\u001b[0m \u001b[0m__rmul__\u001b[0m\u001b[0;34m(\u001b[0m\u001b[0mf\u001b[0m\u001b[0;34m,\u001b[0m \u001b[0mg\u001b[0m\u001b[0;34m)\u001b[0m\u001b[0;34m:\u001b[0m\u001b[0;34m\u001b[0m\u001b[0;34m\u001b[0m\u001b[0m\n",
      "\u001b[0;32m~/.local/lib/python3.8/site-packages/sympy/polys/domains/expressiondomain.py\u001b[0m in \u001b[0;36msimplify\u001b[0;34m(f, ex)\u001b[0m\n\u001b[1;32m     48\u001b[0m \u001b[0;34m\u001b[0m\u001b[0m\n\u001b[1;32m     49\u001b[0m         \u001b[0;32mdef\u001b[0m \u001b[0msimplify\u001b[0m\u001b[0;34m(\u001b[0m\u001b[0mf\u001b[0m\u001b[0;34m,\u001b[0m \u001b[0mex\u001b[0m\u001b[0;34m)\u001b[0m\u001b[0;34m:\u001b[0m\u001b[0;34m\u001b[0m\u001b[0;34m\u001b[0m\u001b[0m\n\u001b[0;32m---> 50\u001b[0;31m             \u001b[0;32mreturn\u001b[0m \u001b[0mf\u001b[0m\u001b[0;34m.\u001b[0m\u001b[0m__class__\u001b[0m\u001b[0;34m(\u001b[0m\u001b[0mex\u001b[0m\u001b[0;34m.\u001b[0m\u001b[0mcancel\u001b[0m\u001b[0;34m(\u001b[0m\u001b[0;34m)\u001b[0m\u001b[0;34m.\u001b[0m\u001b[0mexpand\u001b[0m\u001b[0;34m(\u001b[0m\u001b[0;34m**\u001b[0m\u001b[0meflags\u001b[0m\u001b[0;34m)\u001b[0m\u001b[0;34m)\u001b[0m\u001b[0;34m\u001b[0m\u001b[0;34m\u001b[0m\u001b[0m\n\u001b[0m\u001b[1;32m     51\u001b[0m \u001b[0;34m\u001b[0m\u001b[0m\n\u001b[1;32m     52\u001b[0m         \u001b[0;32mdef\u001b[0m \u001b[0m__abs__\u001b[0m\u001b[0;34m(\u001b[0m\u001b[0mf\u001b[0m\u001b[0;34m)\u001b[0m\u001b[0;34m:\u001b[0m\u001b[0;34m\u001b[0m\u001b[0;34m\u001b[0m\u001b[0m\n",
      "\u001b[0;32m~/.local/lib/python3.8/site-packages/sympy/core/expr.py\u001b[0m in \u001b[0;36mcancel\u001b[0;34m(self, *gens, **args)\u001b[0m\n\u001b[1;32m   3729\u001b[0m         \u001b[0;34m\"\"\"See the cancel function in sympy.polys\"\"\"\u001b[0m\u001b[0;34m\u001b[0m\u001b[0;34m\u001b[0m\u001b[0m\n\u001b[1;32m   3730\u001b[0m         \u001b[0;32mfrom\u001b[0m \u001b[0msympy\u001b[0m\u001b[0;34m.\u001b[0m\u001b[0mpolys\u001b[0m \u001b[0;32mimport\u001b[0m \u001b[0mcancel\u001b[0m\u001b[0;34m\u001b[0m\u001b[0;34m\u001b[0m\u001b[0m\n\u001b[0;32m-> 3731\u001b[0;31m         \u001b[0;32mreturn\u001b[0m \u001b[0mcancel\u001b[0m\u001b[0;34m(\u001b[0m\u001b[0mself\u001b[0m\u001b[0;34m,\u001b[0m \u001b[0;34m*\u001b[0m\u001b[0mgens\u001b[0m\u001b[0;34m,\u001b[0m \u001b[0;34m**\u001b[0m\u001b[0margs\u001b[0m\u001b[0;34m)\u001b[0m\u001b[0;34m\u001b[0m\u001b[0;34m\u001b[0m\u001b[0m\n\u001b[0m\u001b[1;32m   3732\u001b[0m \u001b[0;34m\u001b[0m\u001b[0m\n\u001b[1;32m   3733\u001b[0m     \u001b[0;32mdef\u001b[0m \u001b[0minvert\u001b[0m\u001b[0;34m(\u001b[0m\u001b[0mself\u001b[0m\u001b[0;34m,\u001b[0m \u001b[0mg\u001b[0m\u001b[0;34m,\u001b[0m \u001b[0;34m*\u001b[0m\u001b[0mgens\u001b[0m\u001b[0;34m,\u001b[0m \u001b[0;34m**\u001b[0m\u001b[0margs\u001b[0m\u001b[0;34m)\u001b[0m\u001b[0;34m:\u001b[0m\u001b[0;34m\u001b[0m\u001b[0;34m\u001b[0m\u001b[0m\n",
      "\u001b[0;32m~/.local/lib/python3.8/site-packages/sympy/polys/polytools.py\u001b[0m in \u001b[0;36mcancel\u001b[0;34m(f, *gens, **args)\u001b[0m\n\u001b[1;32m   6698\u001b[0m         \u001b[0;32mif\u001b[0m \u001b[0mf\u001b[0m\u001b[0;34m.\u001b[0m\u001b[0mhas\u001b[0m\u001b[0;34m(\u001b[0m\u001b[0mPiecewise\u001b[0m\u001b[0;34m)\u001b[0m\u001b[0;34m:\u001b[0m\u001b[0;34m\u001b[0m\u001b[0;34m\u001b[0m\u001b[0m\n\u001b[1;32m   6699\u001b[0m             \u001b[0;32mraise\u001b[0m \u001b[0mPolynomialError\u001b[0m\u001b[0;34m(\u001b[0m\u001b[0;34m)\u001b[0m\u001b[0;34m\u001b[0m\u001b[0;34m\u001b[0m\u001b[0m\n\u001b[0;32m-> 6700\u001b[0;31m         \u001b[0mR\u001b[0m\u001b[0;34m,\u001b[0m \u001b[0;34m(\u001b[0m\u001b[0mF\u001b[0m\u001b[0;34m,\u001b[0m \u001b[0mG\u001b[0m\u001b[0;34m)\u001b[0m \u001b[0;34m=\u001b[0m \u001b[0msring\u001b[0m\u001b[0;34m(\u001b[0m\u001b[0;34m(\u001b[0m\u001b[0mp\u001b[0m\u001b[0;34m,\u001b[0m \u001b[0mq\u001b[0m\u001b[0;34m)\u001b[0m\u001b[0;34m,\u001b[0m \u001b[0;34m*\u001b[0m\u001b[0mgens\u001b[0m\u001b[0;34m,\u001b[0m \u001b[0;34m**\u001b[0m\u001b[0margs\u001b[0m\u001b[0;34m)\u001b[0m\u001b[0;34m\u001b[0m\u001b[0;34m\u001b[0m\u001b[0m\n\u001b[0m\u001b[1;32m   6701\u001b[0m         \u001b[0;32mif\u001b[0m \u001b[0;32mnot\u001b[0m \u001b[0mR\u001b[0m\u001b[0;34m.\u001b[0m\u001b[0mngens\u001b[0m\u001b[0;34m:\u001b[0m\u001b[0;34m\u001b[0m\u001b[0;34m\u001b[0m\u001b[0m\n\u001b[1;32m   6702\u001b[0m             \u001b[0;32mif\u001b[0m \u001b[0;32mnot\u001b[0m \u001b[0misinstance\u001b[0m\u001b[0;34m(\u001b[0m\u001b[0mf\u001b[0m\u001b[0;34m,\u001b[0m \u001b[0;34m(\u001b[0m\u001b[0mtuple\u001b[0m\u001b[0;34m,\u001b[0m \u001b[0mTuple\u001b[0m\u001b[0;34m)\u001b[0m\u001b[0;34m)\u001b[0m\u001b[0;34m:\u001b[0m\u001b[0;34m\u001b[0m\u001b[0;34m\u001b[0m\u001b[0m\n",
      "\u001b[0;32m~/.local/lib/python3.8/site-packages/sympy/polys/rings.py\u001b[0m in \u001b[0;36msring\u001b[0;34m(exprs, *symbols, **options)\u001b[0m\n\u001b[1;32m    162\u001b[0m \u001b[0;34m\u001b[0m\u001b[0m\n\u001b[1;32m    163\u001b[0m     \u001b[0;31m# TODO: rewrite this so that it doesn't use expand() (see poly()).\u001b[0m\u001b[0;34m\u001b[0m\u001b[0;34m\u001b[0m\u001b[0;34m\u001b[0m\u001b[0m\n\u001b[0;32m--> 164\u001b[0;31m     \u001b[0mreps\u001b[0m\u001b[0;34m,\u001b[0m \u001b[0mopt\u001b[0m \u001b[0;34m=\u001b[0m \u001b[0m_parallel_dict_from_expr\u001b[0m\u001b[0;34m(\u001b[0m\u001b[0mexprs\u001b[0m\u001b[0;34m,\u001b[0m \u001b[0mopt\u001b[0m\u001b[0;34m)\u001b[0m\u001b[0;34m\u001b[0m\u001b[0;34m\u001b[0m\u001b[0m\n\u001b[0m\u001b[1;32m    165\u001b[0m \u001b[0;34m\u001b[0m\u001b[0m\n\u001b[1;32m    166\u001b[0m     \u001b[0;32mif\u001b[0m \u001b[0mopt\u001b[0m\u001b[0;34m.\u001b[0m\u001b[0mdomain\u001b[0m \u001b[0;32mis\u001b[0m \u001b[0;32mNone\u001b[0m\u001b[0;34m:\u001b[0m\u001b[0;34m\u001b[0m\u001b[0;34m\u001b[0m\u001b[0m\n",
      "\u001b[0;32m~/.local/lib/python3.8/site-packages/sympy/polys/polyutils.py\u001b[0m in \u001b[0;36m_parallel_dict_from_expr\u001b[0;34m(exprs, opt)\u001b[0m\n\u001b[1;32m    334\u001b[0m         \u001b[0mreps\u001b[0m\u001b[0;34m,\u001b[0m \u001b[0mgens\u001b[0m \u001b[0;34m=\u001b[0m \u001b[0m_parallel_dict_from_expr_no_gens\u001b[0m\u001b[0;34m(\u001b[0m\u001b[0mexprs\u001b[0m\u001b[0;34m,\u001b[0m \u001b[0mopt\u001b[0m\u001b[0;34m)\u001b[0m\u001b[0;34m\u001b[0m\u001b[0;34m\u001b[0m\u001b[0m\n\u001b[1;32m    335\u001b[0m \u001b[0;34m\u001b[0m\u001b[0m\n\u001b[0;32m--> 336\u001b[0;31m     \u001b[0;32mreturn\u001b[0m \u001b[0mreps\u001b[0m\u001b[0;34m,\u001b[0m \u001b[0mopt\u001b[0m\u001b[0;34m.\u001b[0m\u001b[0mclone\u001b[0m\u001b[0;34m(\u001b[0m\u001b[0;34m{\u001b[0m\u001b[0;34m'gens'\u001b[0m\u001b[0;34m:\u001b[0m \u001b[0mgens\u001b[0m\u001b[0;34m}\u001b[0m\u001b[0;34m)\u001b[0m\u001b[0;34m\u001b[0m\u001b[0;34m\u001b[0m\u001b[0m\n\u001b[0m\u001b[1;32m    337\u001b[0m \u001b[0;34m\u001b[0m\u001b[0m\n\u001b[1;32m    338\u001b[0m \u001b[0;34m\u001b[0m\u001b[0m\n",
      "\u001b[0;32m~/.local/lib/python3.8/site-packages/sympy/polys/polyoptions.py\u001b[0m in \u001b[0;36mclone\u001b[0;34m(self, updates)\u001b[0m\n\u001b[1;32m    208\u001b[0m         \u001b[0mobj\u001b[0m \u001b[0;34m=\u001b[0m \u001b[0mdict\u001b[0m\u001b[0;34m.\u001b[0m\u001b[0m__new__\u001b[0m\u001b[0;34m(\u001b[0m\u001b[0mself\u001b[0m\u001b[0;34m.\u001b[0m\u001b[0m__class__\u001b[0m\u001b[0;34m)\u001b[0m\u001b[0;34m\u001b[0m\u001b[0;34m\u001b[0m\u001b[0m\n\u001b[1;32m    209\u001b[0m \u001b[0;34m\u001b[0m\u001b[0m\n\u001b[0;32m--> 210\u001b[0;31m         \u001b[0;32mfor\u001b[0m \u001b[0moption\u001b[0m\u001b[0;34m,\u001b[0m \u001b[0mvalue\u001b[0m \u001b[0;32min\u001b[0m \u001b[0mself\u001b[0m\u001b[0;34m.\u001b[0m\u001b[0mitems\u001b[0m\u001b[0;34m(\u001b[0m\u001b[0;34m)\u001b[0m\u001b[0;34m:\u001b[0m\u001b[0;34m\u001b[0m\u001b[0;34m\u001b[0m\u001b[0m\n\u001b[0m\u001b[1;32m    211\u001b[0m             \u001b[0mobj\u001b[0m\u001b[0;34m[\u001b[0m\u001b[0moption\u001b[0m\u001b[0;34m]\u001b[0m \u001b[0;34m=\u001b[0m \u001b[0mvalue\u001b[0m\u001b[0;34m\u001b[0m\u001b[0;34m\u001b[0m\u001b[0m\n\u001b[1;32m    212\u001b[0m \u001b[0;34m\u001b[0m\u001b[0m\n",
      "\u001b[0;31mKeyboardInterrupt\u001b[0m: "
     ]
    }
   ],
   "source": [
    "\"\"\"С данной системой функций проблемы при интегрировании\"\"\"\n",
    "\n",
    "h = []\n",
    "n = 1 \n",
    "\n",
    "for i in range(n):\n",
    "    antiderivative = sp.simplify(sp.integrate(f * Hermit(i, x), x))\n",
    "    h = sp.limit(antiderivative, x, +oo) - sp.limit(antiderivative, x, -oo)\n",
    "print(h)\n"
   ]
  },
  {
   "cell_type": "code",
   "execution_count": null,
   "id": "998c8ba1",
   "metadata": {},
   "outputs": [],
   "source": [
    "f1 = sp.sympify(0)\n",
    "\n",
    "for i in range(len(h)):\n",
    "    f1 += h[i] * Hermit(i, x)\n",
    "f1"
   ]
  },
  {
   "cell_type": "code",
   "execution_count": null,
   "id": "43549445",
   "metadata": {},
   "outputs": [],
   "source": [
    "import matplotlib.pyplot as plt\n",
    "\n",
    "fig, ax = plt.subplots(figsize=(5, 5))\n",
    "plt.plot([i/100 for i in range(0, 101)], [f.subs(x, i/100) for i in range(0, 101)])\n",
    "plt.plot([i/100 for i in range(0, 101)], [f1.subs(x, i/100) for i in range(0, 101)])\n",
    "plt.show()"
   ]
  },
  {
   "cell_type": "code",
   "execution_count": 115,
   "id": "a10725c7",
   "metadata": {},
   "outputs": [
    {
     "name": "stdout",
     "output_type": "stream",
     "text": [
      "[0.0909090909090909, -0.0908203125000000, -0.0833187103271485, 0.0832300186157227, -0.0557868294417858, 0.0557054635137320, 0.0500859254971147, -0.0500046461820602, -0.0303542634574114, 0.0302997841317847, 0.0270654408141127, -0.0270110409474000, 0.0173903476324995, -0.0173414355958812, -0.0150488012877759, 0.0149999686254887, -0.0155111830776349, 0.0154815402422273, 0.0138036944012860, -0.0137741047683448, 0.00885433738702623, -0.00882790629248120, -0.00764548721122082, 0.00761910924154562, 0.00474212855109445, -0.00472514578973459, -0.00406291202068586, 0.00404597702498676, -0.00249606449386873, 0.00248136839886114, 0.00204667515724564, -0.00203202675038482, -0.00779821442853721, 0.00778306678881296, 0.00693630622780025, -0.00692118753615745, 0.00444738227408025, -0.00443390210376649, -0.00383806830064338, 0.00382461702645554, 0.00238159303643864, -0.00237294622258412, -0.00203936935068596, 0.00203074834844721, -0.00125248445671524, 0.00124501816061053, 0.00102638686144410, -0.00101894632507540, 0.00121179963652670, -0.00120716865161352]\n"
     ]
    }
   ],
   "source": [
    "h = []\n",
    "k = 50\n",
    "\n",
    "for i in range(k):\n",
    "    n = 2**len(bin(i)[:1:-1])\n",
    "    a = 0\n",
    "    for j in range(n):\n",
    "        a += sp.simplify(sp.integrate(f * Walsh(i, x).subs(x, (2 * j + 1) / (2 * n)), (x, j / n, (j + 1) / n)))\n",
    "    h.append(a)\n",
    "print(h)\n",
    "\n",
    "#i = s.Symbol(\"i\")\n",
    "#sp.simplify(sp.integrate(f * trigonometric_functions(i, x, a), (x, a, b)))"
   ]
  },
  {
   "cell_type": "code",
   "execution_count": 116,
   "id": "86b1389a",
   "metadata": {},
   "outputs": [
    {
     "data": {
      "text/latex": [
       "$\\displaystyle - 0.00203202675038482 \\operatorname{sign}{\\left(\\sin{\\left(2 \\pi x \\right)} \\right)} \\operatorname{sign}{\\left(\\sin{\\left(4 \\pi x \\right)} \\right)} \\operatorname{sign}{\\left(\\sin{\\left(8 \\pi x \\right)} \\right)} \\operatorname{sign}{\\left(\\sin{\\left(16 \\pi x \\right)} \\right)} \\operatorname{sign}{\\left(\\sin{\\left(32 \\pi x \\right)} \\right)} - 0.0010189463250754 \\operatorname{sign}{\\left(\\sin{\\left(2 \\pi x \\right)} \\right)} \\operatorname{sign}{\\left(\\sin{\\left(4 \\pi x \\right)} \\right)} \\operatorname{sign}{\\left(\\sin{\\left(8 \\pi x \\right)} \\right)} \\operatorname{sign}{\\left(\\sin{\\left(16 \\pi x \\right)} \\right)} \\operatorname{sign}{\\left(\\sin{\\left(64 \\pi x \\right)} \\right)} + 0.0149999686254887 \\operatorname{sign}{\\left(\\sin{\\left(2 \\pi x \\right)} \\right)} \\operatorname{sign}{\\left(\\sin{\\left(4 \\pi x \\right)} \\right)} \\operatorname{sign}{\\left(\\sin{\\left(8 \\pi x \\right)} \\right)} \\operatorname{sign}{\\left(\\sin{\\left(16 \\pi x \\right)} \\right)} + 0.00761910924154562 \\operatorname{sign}{\\left(\\sin{\\left(2 \\pi x \\right)} \\right)} \\operatorname{sign}{\\left(\\sin{\\left(4 \\pi x \\right)} \\right)} \\operatorname{sign}{\\left(\\sin{\\left(8 \\pi x \\right)} \\right)} \\operatorname{sign}{\\left(\\sin{\\left(32 \\pi x \\right)} \\right)} + 0.00382461702645554 \\operatorname{sign}{\\left(\\sin{\\left(2 \\pi x \\right)} \\right)} \\operatorname{sign}{\\left(\\sin{\\left(4 \\pi x \\right)} \\right)} \\operatorname{sign}{\\left(\\sin{\\left(8 \\pi x \\right)} \\right)} \\operatorname{sign}{\\left(\\sin{\\left(64 \\pi x \\right)} \\right)} - 0.0500046461820602 \\operatorname{sign}{\\left(\\sin{\\left(2 \\pi x \\right)} \\right)} \\operatorname{sign}{\\left(\\sin{\\left(4 \\pi x \\right)} \\right)} \\operatorname{sign}{\\left(\\sin{\\left(8 \\pi x \\right)} \\right)} + 0.00404597702498676 \\operatorname{sign}{\\left(\\sin{\\left(2 \\pi x \\right)} \\right)} \\operatorname{sign}{\\left(\\sin{\\left(4 \\pi x \\right)} \\right)} \\operatorname{sign}{\\left(\\sin{\\left(16 \\pi x \\right)} \\right)} \\operatorname{sign}{\\left(\\sin{\\left(32 \\pi x \\right)} \\right)} + 0.00203074834844721 \\operatorname{sign}{\\left(\\sin{\\left(2 \\pi x \\right)} \\right)} \\operatorname{sign}{\\left(\\sin{\\left(4 \\pi x \\right)} \\right)} \\operatorname{sign}{\\left(\\sin{\\left(16 \\pi x \\right)} \\right)} \\operatorname{sign}{\\left(\\sin{\\left(64 \\pi x \\right)} \\right)} - 0.0270110409474 \\operatorname{sign}{\\left(\\sin{\\left(2 \\pi x \\right)} \\right)} \\operatorname{sign}{\\left(\\sin{\\left(4 \\pi x \\right)} \\right)} \\operatorname{sign}{\\left(\\sin{\\left(16 \\pi x \\right)} \\right)} - 0.0137741047683448 \\operatorname{sign}{\\left(\\sin{\\left(2 \\pi x \\right)} \\right)} \\operatorname{sign}{\\left(\\sin{\\left(4 \\pi x \\right)} \\right)} \\operatorname{sign}{\\left(\\sin{\\left(32 \\pi x \\right)} \\right)} - 0.00692118753615745 \\operatorname{sign}{\\left(\\sin{\\left(2 \\pi x \\right)} \\right)} \\operatorname{sign}{\\left(\\sin{\\left(4 \\pi x \\right)} \\right)} \\operatorname{sign}{\\left(\\sin{\\left(64 \\pi x \\right)} \\right)} + 0.0832300186157227 \\operatorname{sign}{\\left(\\sin{\\left(2 \\pi x \\right)} \\right)} \\operatorname{sign}{\\left(\\sin{\\left(4 \\pi x \\right)} \\right)} + 0.00248136839886114 \\operatorname{sign}{\\left(\\sin{\\left(2 \\pi x \\right)} \\right)} \\operatorname{sign}{\\left(\\sin{\\left(8 \\pi x \\right)} \\right)} \\operatorname{sign}{\\left(\\sin{\\left(16 \\pi x \\right)} \\right)} \\operatorname{sign}{\\left(\\sin{\\left(32 \\pi x \\right)} \\right)} + 0.00124501816061053 \\operatorname{sign}{\\left(\\sin{\\left(2 \\pi x \\right)} \\right)} \\operatorname{sign}{\\left(\\sin{\\left(8 \\pi x \\right)} \\right)} \\operatorname{sign}{\\left(\\sin{\\left(16 \\pi x \\right)} \\right)} \\operatorname{sign}{\\left(\\sin{\\left(64 \\pi x \\right)} \\right)} - 0.0173414355958812 \\operatorname{sign}{\\left(\\sin{\\left(2 \\pi x \\right)} \\right)} \\operatorname{sign}{\\left(\\sin{\\left(8 \\pi x \\right)} \\right)} \\operatorname{sign}{\\left(\\sin{\\left(16 \\pi x \\right)} \\right)} - 0.0088279062924812 \\operatorname{sign}{\\left(\\sin{\\left(2 \\pi x \\right)} \\right)} \\operatorname{sign}{\\left(\\sin{\\left(8 \\pi x \\right)} \\right)} \\operatorname{sign}{\\left(\\sin{\\left(32 \\pi x \\right)} \\right)} - 0.00443390210376649 \\operatorname{sign}{\\left(\\sin{\\left(2 \\pi x \\right)} \\right)} \\operatorname{sign}{\\left(\\sin{\\left(8 \\pi x \\right)} \\right)} \\operatorname{sign}{\\left(\\sin{\\left(64 \\pi x \\right)} \\right)} + 0.055705463513732 \\operatorname{sign}{\\left(\\sin{\\left(2 \\pi x \\right)} \\right)} \\operatorname{sign}{\\left(\\sin{\\left(8 \\pi x \\right)} \\right)} - 0.00472514578973459 \\operatorname{sign}{\\left(\\sin{\\left(2 \\pi x \\right)} \\right)} \\operatorname{sign}{\\left(\\sin{\\left(16 \\pi x \\right)} \\right)} \\operatorname{sign}{\\left(\\sin{\\left(32 \\pi x \\right)} \\right)} - 0.00237294622258412 \\operatorname{sign}{\\left(\\sin{\\left(2 \\pi x \\right)} \\right)} \\operatorname{sign}{\\left(\\sin{\\left(16 \\pi x \\right)} \\right)} \\operatorname{sign}{\\left(\\sin{\\left(64 \\pi x \\right)} \\right)} + 0.0302997841317847 \\operatorname{sign}{\\left(\\sin{\\left(2 \\pi x \\right)} \\right)} \\operatorname{sign}{\\left(\\sin{\\left(16 \\pi x \\right)} \\right)} - 0.00120716865161352 \\operatorname{sign}{\\left(\\sin{\\left(2 \\pi x \\right)} \\right)} \\operatorname{sign}{\\left(\\sin{\\left(32 \\pi x \\right)} \\right)} \\operatorname{sign}{\\left(\\sin{\\left(64 \\pi x \\right)} \\right)} + 0.0154815402422273 \\operatorname{sign}{\\left(\\sin{\\left(2 \\pi x \\right)} \\right)} \\operatorname{sign}{\\left(\\sin{\\left(32 \\pi x \\right)} \\right)} + 0.00778306678881296 \\operatorname{sign}{\\left(\\sin{\\left(2 \\pi x \\right)} \\right)} \\operatorname{sign}{\\left(\\sin{\\left(64 \\pi x \\right)} \\right)} - 0.0908203125 \\operatorname{sign}{\\left(\\sin{\\left(2 \\pi x \\right)} \\right)} + 0.00204667515724564 \\operatorname{sign}{\\left(\\sin{\\left(4 \\pi x \\right)} \\right)} \\operatorname{sign}{\\left(\\sin{\\left(8 \\pi x \\right)} \\right)} \\operatorname{sign}{\\left(\\sin{\\left(16 \\pi x \\right)} \\right)} \\operatorname{sign}{\\left(\\sin{\\left(32 \\pi x \\right)} \\right)} + 0.0010263868614441 \\operatorname{sign}{\\left(\\sin{\\left(4 \\pi x \\right)} \\right)} \\operatorname{sign}{\\left(\\sin{\\left(8 \\pi x \\right)} \\right)} \\operatorname{sign}{\\left(\\sin{\\left(16 \\pi x \\right)} \\right)} \\operatorname{sign}{\\left(\\sin{\\left(64 \\pi x \\right)} \\right)} - 0.0150488012877759 \\operatorname{sign}{\\left(\\sin{\\left(4 \\pi x \\right)} \\right)} \\operatorname{sign}{\\left(\\sin{\\left(8 \\pi x \\right)} \\right)} \\operatorname{sign}{\\left(\\sin{\\left(16 \\pi x \\right)} \\right)} - 0.00764548721122082 \\operatorname{sign}{\\left(\\sin{\\left(4 \\pi x \\right)} \\right)} \\operatorname{sign}{\\left(\\sin{\\left(8 \\pi x \\right)} \\right)} \\operatorname{sign}{\\left(\\sin{\\left(32 \\pi x \\right)} \\right)} - 0.00383806830064338 \\operatorname{sign}{\\left(\\sin{\\left(4 \\pi x \\right)} \\right)} \\operatorname{sign}{\\left(\\sin{\\left(8 \\pi x \\right)} \\right)} \\operatorname{sign}{\\left(\\sin{\\left(64 \\pi x \\right)} \\right)} + 0.0500859254971147 \\operatorname{sign}{\\left(\\sin{\\left(4 \\pi x \\right)} \\right)} \\operatorname{sign}{\\left(\\sin{\\left(8 \\pi x \\right)} \\right)} - 0.00406291202068586 \\operatorname{sign}{\\left(\\sin{\\left(4 \\pi x \\right)} \\right)} \\operatorname{sign}{\\left(\\sin{\\left(16 \\pi x \\right)} \\right)} \\operatorname{sign}{\\left(\\sin{\\left(32 \\pi x \\right)} \\right)} - 0.00203936935068596 \\operatorname{sign}{\\left(\\sin{\\left(4 \\pi x \\right)} \\right)} \\operatorname{sign}{\\left(\\sin{\\left(16 \\pi x \\right)} \\right)} \\operatorname{sign}{\\left(\\sin{\\left(64 \\pi x \\right)} \\right)} + 0.0270654408141127 \\operatorname{sign}{\\left(\\sin{\\left(4 \\pi x \\right)} \\right)} \\operatorname{sign}{\\left(\\sin{\\left(16 \\pi x \\right)} \\right)} + 0.013803694401286 \\operatorname{sign}{\\left(\\sin{\\left(4 \\pi x \\right)} \\right)} \\operatorname{sign}{\\left(\\sin{\\left(32 \\pi x \\right)} \\right)} + 0.00693630622780025 \\operatorname{sign}{\\left(\\sin{\\left(4 \\pi x \\right)} \\right)} \\operatorname{sign}{\\left(\\sin{\\left(64 \\pi x \\right)} \\right)} - 0.0833187103271485 \\operatorname{sign}{\\left(\\sin{\\left(4 \\pi x \\right)} \\right)} - 0.00249606449386873 \\operatorname{sign}{\\left(\\sin{\\left(8 \\pi x \\right)} \\right)} \\operatorname{sign}{\\left(\\sin{\\left(16 \\pi x \\right)} \\right)} \\operatorname{sign}{\\left(\\sin{\\left(32 \\pi x \\right)} \\right)} - 0.00125248445671524 \\operatorname{sign}{\\left(\\sin{\\left(8 \\pi x \\right)} \\right)} \\operatorname{sign}{\\left(\\sin{\\left(16 \\pi x \\right)} \\right)} \\operatorname{sign}{\\left(\\sin{\\left(64 \\pi x \\right)} \\right)} + 0.0173903476324995 \\operatorname{sign}{\\left(\\sin{\\left(8 \\pi x \\right)} \\right)} \\operatorname{sign}{\\left(\\sin{\\left(16 \\pi x \\right)} \\right)} + 0.00885433738702623 \\operatorname{sign}{\\left(\\sin{\\left(8 \\pi x \\right)} \\right)} \\operatorname{sign}{\\left(\\sin{\\left(32 \\pi x \\right)} \\right)} + 0.00444738227408025 \\operatorname{sign}{\\left(\\sin{\\left(8 \\pi x \\right)} \\right)} \\operatorname{sign}{\\left(\\sin{\\left(64 \\pi x \\right)} \\right)} - 0.0557868294417858 \\operatorname{sign}{\\left(\\sin{\\left(8 \\pi x \\right)} \\right)} + 0.00474212855109445 \\operatorname{sign}{\\left(\\sin{\\left(16 \\pi x \\right)} \\right)} \\operatorname{sign}{\\left(\\sin{\\left(32 \\pi x \\right)} \\right)} + 0.00238159303643864 \\operatorname{sign}{\\left(\\sin{\\left(16 \\pi x \\right)} \\right)} \\operatorname{sign}{\\left(\\sin{\\left(64 \\pi x \\right)} \\right)} - 0.0303542634574114 \\operatorname{sign}{\\left(\\sin{\\left(16 \\pi x \\right)} \\right)} + 0.0012117996365267 \\operatorname{sign}{\\left(\\sin{\\left(32 \\pi x \\right)} \\right)} \\operatorname{sign}{\\left(\\sin{\\left(64 \\pi x \\right)} \\right)} - 0.0155111830776349 \\operatorname{sign}{\\left(\\sin{\\left(32 \\pi x \\right)} \\right)} - 0.00779821442853721 \\operatorname{sign}{\\left(\\sin{\\left(64 \\pi x \\right)} \\right)} + 0.0909090909090909$"
      ],
      "text/plain": [
       "-0.00203202675038482*sign(sin(2*pi*x))*sign(sin(4*pi*x))*sign(sin(8*pi*x))*sign(sin(16*pi*x))*sign(sin(32*pi*x)) - 0.0010189463250754*sign(sin(2*pi*x))*sign(sin(4*pi*x))*sign(sin(8*pi*x))*sign(sin(16*pi*x))*sign(sin(64*pi*x)) + 0.0149999686254887*sign(sin(2*pi*x))*sign(sin(4*pi*x))*sign(sin(8*pi*x))*sign(sin(16*pi*x)) + 0.00761910924154562*sign(sin(2*pi*x))*sign(sin(4*pi*x))*sign(sin(8*pi*x))*sign(sin(32*pi*x)) + 0.00382461702645554*sign(sin(2*pi*x))*sign(sin(4*pi*x))*sign(sin(8*pi*x))*sign(sin(64*pi*x)) - 0.0500046461820602*sign(sin(2*pi*x))*sign(sin(4*pi*x))*sign(sin(8*pi*x)) + 0.00404597702498676*sign(sin(2*pi*x))*sign(sin(4*pi*x))*sign(sin(16*pi*x))*sign(sin(32*pi*x)) + 0.00203074834844721*sign(sin(2*pi*x))*sign(sin(4*pi*x))*sign(sin(16*pi*x))*sign(sin(64*pi*x)) - 0.0270110409474*sign(sin(2*pi*x))*sign(sin(4*pi*x))*sign(sin(16*pi*x)) - 0.0137741047683448*sign(sin(2*pi*x))*sign(sin(4*pi*x))*sign(sin(32*pi*x)) - 0.00692118753615745*sign(sin(2*pi*x))*sign(sin(4*pi*x))*sign(sin(64*pi*x)) + 0.0832300186157227*sign(sin(2*pi*x))*sign(sin(4*pi*x)) + 0.00248136839886114*sign(sin(2*pi*x))*sign(sin(8*pi*x))*sign(sin(16*pi*x))*sign(sin(32*pi*x)) + 0.00124501816061053*sign(sin(2*pi*x))*sign(sin(8*pi*x))*sign(sin(16*pi*x))*sign(sin(64*pi*x)) - 0.0173414355958812*sign(sin(2*pi*x))*sign(sin(8*pi*x))*sign(sin(16*pi*x)) - 0.0088279062924812*sign(sin(2*pi*x))*sign(sin(8*pi*x))*sign(sin(32*pi*x)) - 0.00443390210376649*sign(sin(2*pi*x))*sign(sin(8*pi*x))*sign(sin(64*pi*x)) + 0.055705463513732*sign(sin(2*pi*x))*sign(sin(8*pi*x)) - 0.00472514578973459*sign(sin(2*pi*x))*sign(sin(16*pi*x))*sign(sin(32*pi*x)) - 0.00237294622258412*sign(sin(2*pi*x))*sign(sin(16*pi*x))*sign(sin(64*pi*x)) + 0.0302997841317847*sign(sin(2*pi*x))*sign(sin(16*pi*x)) - 0.00120716865161352*sign(sin(2*pi*x))*sign(sin(32*pi*x))*sign(sin(64*pi*x)) + 0.0154815402422273*sign(sin(2*pi*x))*sign(sin(32*pi*x)) + 0.00778306678881296*sign(sin(2*pi*x))*sign(sin(64*pi*x)) - 0.0908203125*sign(sin(2*pi*x)) + 0.00204667515724564*sign(sin(4*pi*x))*sign(sin(8*pi*x))*sign(sin(16*pi*x))*sign(sin(32*pi*x)) + 0.0010263868614441*sign(sin(4*pi*x))*sign(sin(8*pi*x))*sign(sin(16*pi*x))*sign(sin(64*pi*x)) - 0.0150488012877759*sign(sin(4*pi*x))*sign(sin(8*pi*x))*sign(sin(16*pi*x)) - 0.00764548721122082*sign(sin(4*pi*x))*sign(sin(8*pi*x))*sign(sin(32*pi*x)) - 0.00383806830064338*sign(sin(4*pi*x))*sign(sin(8*pi*x))*sign(sin(64*pi*x)) + 0.0500859254971147*sign(sin(4*pi*x))*sign(sin(8*pi*x)) - 0.00406291202068586*sign(sin(4*pi*x))*sign(sin(16*pi*x))*sign(sin(32*pi*x)) - 0.00203936935068596*sign(sin(4*pi*x))*sign(sin(16*pi*x))*sign(sin(64*pi*x)) + 0.0270654408141127*sign(sin(4*pi*x))*sign(sin(16*pi*x)) + 0.013803694401286*sign(sin(4*pi*x))*sign(sin(32*pi*x)) + 0.00693630622780025*sign(sin(4*pi*x))*sign(sin(64*pi*x)) - 0.0833187103271485*sign(sin(4*pi*x)) - 0.00249606449386873*sign(sin(8*pi*x))*sign(sin(16*pi*x))*sign(sin(32*pi*x)) - 0.00125248445671524*sign(sin(8*pi*x))*sign(sin(16*pi*x))*sign(sin(64*pi*x)) + 0.0173903476324995*sign(sin(8*pi*x))*sign(sin(16*pi*x)) + 0.00885433738702623*sign(sin(8*pi*x))*sign(sin(32*pi*x)) + 0.00444738227408025*sign(sin(8*pi*x))*sign(sin(64*pi*x)) - 0.0557868294417858*sign(sin(8*pi*x)) + 0.00474212855109445*sign(sin(16*pi*x))*sign(sin(32*pi*x)) + 0.00238159303643864*sign(sin(16*pi*x))*sign(sin(64*pi*x)) - 0.0303542634574114*sign(sin(16*pi*x)) + 0.0012117996365267*sign(sin(32*pi*x))*sign(sin(64*pi*x)) - 0.0155111830776349*sign(sin(32*pi*x)) - 0.00779821442853721*sign(sin(64*pi*x)) + 0.0909090909090909"
      ]
     },
     "execution_count": 116,
     "metadata": {},
     "output_type": "execute_result"
    }
   ],
   "source": [
    "f1 = sp.sympify(0)\n",
    "\n",
    "for i in range(len(h)):\n",
    "    f1 += h[i] * Walsh(i, x)\n",
    "f1"
   ]
  },
  {
   "cell_type": "code",
   "execution_count": 117,
   "id": "ffe4d94a",
   "metadata": {},
   "outputs": [
    {
     "data": {
      "image/png": "[encoded data removed]",
      "text/plain": [
       "<Figure size 360x360 with 1 Axes>"
      ]
     },
     "metadata": {
      "needs_background": "light"
     },
     "output_type": "display_data"
    }
   ],
   "source": [
    "import matplotlib.pyplot as plt\n",
    "\n",
    "fig, ax = plt.subplots(figsize=(5, 5))\n",
    "plt.plot([i/100 for i in range(0, 101)], [f.subs(x, i/100) for i in range(0, 101)])\n",
    "plt.plot([i/100 for i in range(0, 101)], [f1.subs(x, i/100) for i in range(0, 101)])\n",
    "plt.show()"
   ]
  },
  {
   "cell_type": "code",
   "execution_count": 120,
   "id": "6645a34e",
   "metadata": {},
   "outputs": [
    {
     "name": "stdout",
     "output_type": "stream",
     "text": [
      "1\n",
      "sqrt(3)*(2*x - 1)\n",
      "sqrt(5)*(6*x**2 - 6*x + 1)\n",
      "sqrt(7)*(20*x**3 - 30*x**2 + 12*x - 1)\n",
      "210*x**4 - 420*x**3 + 270*x**2 - 60*x + 3\n",
      "sqrt(11)*(252*x**5 - 630*x**4 + 560*x**3 - 210*x**2 + 30*x - 1)\n",
      "sqrt(13)*(924*x**6 - 2772*x**5 + 3150*x**4 - 1680*x**3 + 420*x**2 - 42*x + 1)\n",
      "sqrt(15)*(3432*x**7 - 12012*x**6 + 16632*x**5 - 11550*x**4 + 4200*x**3 - 756*x**2 + 56*x - 1)\n",
      "sqrt(17)*(12870*x**8 - 51480*x**7 + 84084*x**6 - 72072*x**5 + 34650*x**4 - 9240*x**3 + 1260*x**2 - 72*x + 1)\n",
      "sqrt(19)*(48620*x**9 - 218790*x**8 + 411840*x**7 - 420420*x**6 + 252252*x**5 - 90090*x**4 + 18480*x**3 - 1980*x**2 + 90*x - 1)\n",
      "[1/11, 5*sqrt(3)/66, 15*sqrt(5)/286, 30*sqrt(7)/1001, 6/143, 3*sqrt(11)/572, 15*sqrt(13)/9724, 5*sqrt(15)/14586, 5*sqrt(17)/92378, sqrt(19)/184756]\n"
     ]
    }
   ],
   "source": [
    "h = []\n",
    "n = 10\n",
    "\n",
    "for i in range(n):\n",
    "    h.append(sp.simplify(sp.integrate(f * Legendre(i, x, (a, b)), (x, a, b))))\n",
    "print(h)\n",
    "\n",
    "#i = s.Symbol(\"i\")\n",
    "#sp.simplify(sp.integrate(f * trigonometric_functions(i, x, a), (x, a, b)))"
   ]
  },
  {
   "cell_type": "code",
   "execution_count": 121,
   "id": "ad050e1c",
   "metadata": {},
   "outputs": [
    {
     "data": {
      "text/latex": [
       "$\\displaystyle 5 x^{9} - \\frac{405 x^{8}}{38} + \\frac{240 x^{7}}{19} - \\frac{2940 x^{6}}{323} + \\frac{1323 x^{5}}{323} - \\frac{735 x^{4}}{646} + \\frac{60 x^{3}}{323} - \\frac{135 x^{2}}{8398} + \\frac{5 x}{8398} - \\frac{1}{184756}$"
      ],
      "text/plain": [
       "5*x**9 - 405*x**8/38 + 240*x**7/19 - 2940*x**6/323 + 1323*x**5/323 - 735*x**4/646 + 60*x**3/323 - 135*x**2/8398 + 5*x/8398 - 1/184756"
      ]
     },
     "execution_count": 121,
     "metadata": {},
     "output_type": "execute_result"
    }
   ],
   "source": [
    "f1 = sp.sympify(0)\n",
    "\n",
    "for i in range(len(h)):\n",
    "    f1 += h[i] * Legendre(i, x, (a, b))\n",
    "f1"
   ]
  },
  {
   "cell_type": "code",
   "execution_count": 123,
   "id": "63613c28",
   "metadata": {},
   "outputs": [
    {
     "data": {
      "image/png": "[encoded data removed]",
      "text/plain": [
       "<Figure size 360x360 with 1 Axes>"
      ]
     },
     "metadata": {
      "needs_background": "light"
     },
     "output_type": "display_data"
    }
   ],
   "source": [
    "import matplotlib.pyplot as plt\n",
    "\n",
    "fig, ax = plt.subplots(figsize=(5, 5))\n",
    "plt.plot([i/100 for i in range(0, 101)], [f.subs(x, i/100) for i in range(0, 101)])\n",
    "plt.plot([i/100 for i in range(0, 101)], [f1.subs(x, i/100) for i in range(0, 101)])\n",
    "plt.show()"
   ]
  },
  {
   "cell_type": "code",
   "execution_count": null,
   "id": "6bcbc91a",
   "metadata": {},
   "outputs": [],
   "source": []
  }
 ],
 "metadata": {
  "kernelspec": {
   "display_name": "Python 3 (ipykernel)",
   "language": "python",
   "name": "python3"
  },
  "language_info": {
   "codemirror_mode": {
    "name": "ipython",
    "version": 3
   },
   "file_extension": ".py",
   "mimetype": "text/x-python",
   "name": "python",
   "nbconvert_exporter": "python",
   "pygments_lexer": "ipython3",
   "version": "3.8.10"
  }
 },
 "nbformat": 4,
 "nbformat_minor": 5
}
